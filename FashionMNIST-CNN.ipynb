{
 "cells": [
  {
   "cell_type": "code",
   "execution_count": 1,
   "metadata": {
    "tags": []
   },
   "outputs": [
    {
     "name": "stderr",
     "output_type": "stream",
     "text": [
      "2023-06-20 20:13:40.443766: I tensorflow/tsl/cuda/cudart_stub.cc:28] Could not find cuda drivers on your machine, GPU will not be used.\n",
      "2023-06-20 20:13:40.467355: I tensorflow/tsl/cuda/cudart_stub.cc:28] Could not find cuda drivers on your machine, GPU will not be used.\n",
      "2023-06-20 20:13:40.467859: I tensorflow/core/platform/cpu_feature_guard.cc:182] This TensorFlow binary is optimized to use available CPU instructions in performance-critical operations.\n",
      "To enable the following instructions: AVX2 FMA, in other operations, rebuild TensorFlow with the appropriate compiler flags.\n",
      "2023-06-20 20:13:40.928980: W tensorflow/compiler/tf2tensorrt/utils/py_utils.cc:38] TF-TRT Warning: Could not find TensorRT\n"
     ]
    },
    {
     "name": "stdout",
     "output_type": "stream",
     "text": [
      "2.12.0\n",
      "2.12.0\n"
     ]
    }
   ],
   "source": [
    "import tensorflow as tf\n",
    "from tensorflow import keras\n",
    "print(tf.__version__)\n",
    "print(keras.__version__)"
   ]
  },
  {
   "cell_type": "code",
   "execution_count": 2,
   "metadata": {
    "tags": []
   },
   "outputs": [],
   "source": [
    "import numpy as np\n",
    "import pandas as pd\n",
    "import matplotlib.pyplot as plt\n",
    "import os\n",
    "import time\n",
    "from multiprocessing import Process"
   ]
  },
  {
   "cell_type": "code",
   "execution_count": 3,
   "metadata": {
    "tags": []
   },
   "outputs": [],
   "source": [
    "from keras.models import Sequential\n",
    "from keras.layers import Conv2D, Dense, BatchNormalization, Dropout, Flatten, MaxPool2D, MaxPooling2D\n",
    "from keras.callbacks import EarlyStopping, History"
   ]
  },
  {
   "cell_type": "code",
   "execution_count": 4,
   "metadata": {
    "tags": []
   },
   "outputs": [],
   "source": [
    "fashion_mnist = keras.datasets.fashion_mnist\n",
    "(X_train_full, y_train_full), (X_test, y_test) = fashion_mnist.load_data()\n",
    "\n",
    "X_valid, X_train = X_train_full[:5000] / 255., X_train_full[5000:] / 255.\n",
    "y_valid, y_train = y_train_full[:5000], y_train_full[5000:]\n",
    "X_test = X_test / 255.\n",
    "\n",
    "class_names = [\"T-shirt/top\", \"Trouser\", \"Pullover\", \"Dress\", \"Coat\",\n",
    "               \"Sandal\", \"Shirt\", \"Sneaker\", \"Bag\", \"Ankle boot\"]\n",
    "\n",
    "n_classes = len(class_names)"
   ]
  },
  {
   "cell_type": "code",
   "execution_count": 5,
   "metadata": {
    "tags": []
   },
   "outputs": [],
   "source": [
    "def plot_fashion_mnist():\n",
    "    n_rows = 4\n",
    "    n_cols = 10\n",
    "    plt.figure(figsize=(n_cols * 1.2, n_rows * 1.2))\n",
    "    for row in range(n_rows):\n",
    "        for col in range(n_cols):\n",
    "            index = n_cols * row + col\n",
    "            plt.subplot(n_rows, n_cols, index + 1)\n",
    "            plt.imshow(X_train[index], cmap=\"binary\", interpolation=\"nearest\")\n",
    "            plt.axis('off')\n",
    "            plt.title(class_names[y_train[index]], fontsize=12)\n",
    "    plt.subplots_adjust(wspace=0.2, hspace=0.5)\n",
    "    plt.show()\n",
    "    \n",
    "# plot_fashion_mnist()"
   ]
  },
  {
   "cell_type": "code",
   "execution_count": 74,
   "metadata": {
    "tags": []
   },
   "outputs": [
    {
     "name": "stdout",
     "output_type": "stream",
     "text": [
      "Model: \"sequential\"\n",
      "_________________________________________________________________\n",
      " Layer (type)                Output Shape              Param #   \n",
      "=================================================================\n",
      " conv2d (Conv2D)             (None, 26, 26, 32)        320       \n",
      "                                                                 \n",
      " batch_normalization (BatchN  (None, 26, 26, 32)       128       \n",
      " ormalization)                                                   \n",
      "                                                                 \n",
      " conv2d_1 (Conv2D)           (None, 13, 13, 32)        9248      \n",
      "                                                                 \n",
      " batch_normalization_1 (Batc  (None, 13, 13, 32)       128       \n",
      " hNormalization)                                                 \n",
      "                                                                 \n",
      " dropout (Dropout)           (None, 13, 13, 32)        0         \n",
      "                                                                 \n",
      " conv2d_2 (Conv2D)           (None, 11, 11, 64)        18496     \n",
      "                                                                 \n",
      " batch_normalization_2 (Batc  (None, 11, 11, 64)       256       \n",
      " hNormalization)                                                 \n",
      "                                                                 \n",
      " conv2d_3 (Conv2D)           (None, 6, 6, 64)          36928     \n",
      "                                                                 \n",
      " batch_normalization_3 (Batc  (None, 6, 6, 64)         256       \n",
      " hNormalization)                                                 \n",
      "                                                                 \n",
      " dropout_1 (Dropout)         (None, 6, 6, 64)          0         \n",
      "                                                                 \n",
      " flatten (Flatten)           (None, 2304)              0         \n",
      "                                                                 \n",
      " dense (Dense)               (None, 128)               295040    \n",
      "                                                                 \n",
      " batch_normalization_4 (Batc  (None, 128)              512       \n",
      " hNormalization)                                                 \n",
      "                                                                 \n",
      " dropout_2 (Dropout)         (None, 128)               0         \n",
      "                                                                 \n",
      " dense_1 (Dense)             (None, 10)                1290      \n",
      "                                                                 \n",
      "=================================================================\n",
      "Total params: 362,602\n",
      "Trainable params: 361,962\n",
      "Non-trainable params: 640\n",
      "_________________________________________________________________\n"
     ]
    }
   ],
   "source": [
    "def create_model():\n",
    "    model = Sequential()\n",
    "    CONV_DROPOUT = 0.4\n",
    "    DENSE_DROPOUT = 0.3\n",
    "    KERNEL_SIZE = 3\n",
    "    \n",
    "    model.add(Conv2D(32, kernel_size=KERNEL_SIZE, activation='relu', input_shape=(28,28,1)))\n",
    "    model.add(BatchNormalization())\n",
    "    # model.add(MaxPool2D())\n",
    "    model.add(Conv2D(32, kernel_size=KERNEL_SIZE, padding=\"same\", strides=2, activation='relu'))\n",
    "    model.add(BatchNormalization())\n",
    "    model.add(Dropout(CONV_DROPOUT))\n",
    "    \n",
    "    model.add(Conv2D(64, kernel_size=KERNEL_SIZE, activation='relu'))\n",
    "    model.add(BatchNormalization())\n",
    "    # model.add(MaxPool2D())\n",
    "    model.add(Conv2D(64, kernel_size=KERNEL_SIZE, padding=\"same\", strides=2, activation='relu'))\n",
    "    model.add(BatchNormalization())\n",
    "    model.add(Dropout(CONV_DROPOUT))\n",
    "    \n",
    "   \n",
    "#     CONV_DROPOUT = 0.4\n",
    "#     DENSE_DROPOUT = 0.3\n",
    "#     KERNEL_SIZE = 3\n",
    "    \n",
    "#     model.add(Conv2D(32, kernel_size=KERNEL_SIZE, padding=\"same\", activation='relu', input_shape=(28,28,1)))\n",
    "#     model.add(BatchNormalization())\n",
    "#     # model.add(Conv2D(32, kernel_size=KERNEL_SIZE, activation='relu'))\n",
    "#     model.add(MaxPool2D())\n",
    "#     model.add(Dropout(CONV_DROPOUT))\n",
    "    \n",
    "#     model.add(Conv2D(64, kernel_size=KERNEL_SIZE, padding=\"same\", activation='relu'))\n",
    "#     model.add(BatchNormalization())\n",
    "#     # model.add(Conv2D(64, kernel_size=KERNEL_SIZE, activation='relu'))\n",
    "#     model.add(MaxPool2D())\n",
    "#     model.add(Dropout(CONV_DROPOUT))\n",
    "    \n",
    "   \n",
    "    model.add(Flatten())\n",
    "    model.add(Dense(128, activation='relu'))\n",
    "    model.add(BatchNormalization())\n",
    "    model.add(Dropout(DENSE_DROPOUT))\n",
    "    model.add(Dense(n_classes, activation='softmax'))\n",
    "\n",
    "    model.compile(loss=\"sparse_categorical_crossentropy\",\n",
    "                  optimizer=\"adam\",\n",
    "                  metrics=[\"accuracy\"])\n",
    "    \n",
    "    model.summary()\n",
    "    return model\n",
    "\n",
    "keras.backend.clear_session()\n",
    "model = create_model()"
   ]
  },
  {
   "cell_type": "code",
   "execution_count": 75,
   "metadata": {
    "tags": []
   },
   "outputs": [
    {
     "name": "stdout",
     "output_type": "stream",
     "text": [
      "Epoch 1/20\n",
      "1719/1719 [==============================] - 17s 10ms/step - loss: 0.5182 - accuracy: 0.8143 - val_loss: 0.3066 - val_accuracy: 0.8910\n",
      "Epoch 2/20\n",
      "1719/1719 [==============================] - 16s 9ms/step - loss: 0.3516 - accuracy: 0.8726 - val_loss: 0.2546 - val_accuracy: 0.9048\n",
      "Epoch 3/20\n",
      "1719/1719 [==============================] - 15s 9ms/step - loss: 0.3086 - accuracy: 0.8875 - val_loss: 0.2645 - val_accuracy: 0.8982\n",
      "Epoch 4/20\n",
      "1719/1719 [==============================] - 15s 9ms/step - loss: 0.2873 - accuracy: 0.8961 - val_loss: 0.2433 - val_accuracy: 0.9102\n",
      "Epoch 5/20\n",
      "1719/1719 [==============================] - 15s 9ms/step - loss: 0.2635 - accuracy: 0.9039 - val_loss: 0.2305 - val_accuracy: 0.9124\n",
      "Epoch 6/20\n",
      "1719/1719 [==============================] - 15s 9ms/step - loss: 0.2524 - accuracy: 0.9078 - val_loss: 0.2064 - val_accuracy: 0.9216\n",
      "Epoch 7/20\n",
      "1719/1719 [==============================] - 15s 9ms/step - loss: 0.2407 - accuracy: 0.9113 - val_loss: 0.2079 - val_accuracy: 0.9182\n",
      "Epoch 8/20\n",
      "1719/1719 [==============================] - 14s 8ms/step - loss: 0.2264 - accuracy: 0.9171 - val_loss: 0.2036 - val_accuracy: 0.9266\n",
      "Epoch 9/20\n",
      "1719/1719 [==============================] - 14s 8ms/step - loss: 0.2161 - accuracy: 0.9213 - val_loss: 0.1999 - val_accuracy: 0.9224\n",
      "Epoch 10/20\n",
      "1719/1719 [==============================] - 14s 8ms/step - loss: 0.2093 - accuracy: 0.9231 - val_loss: 0.2045 - val_accuracy: 0.9228\n",
      "Epoch 11/20\n",
      "1719/1719 [==============================] - 15s 9ms/step - loss: 0.2043 - accuracy: 0.9252 - val_loss: 0.1929 - val_accuracy: 0.9278\n",
      "Epoch 12/20\n",
      "1719/1719 [==============================] - 15s 9ms/step - loss: 0.1977 - accuracy: 0.9271 - val_loss: 0.1846 - val_accuracy: 0.9290\n",
      "Epoch 13/20\n",
      "1719/1719 [==============================] - 16s 10ms/step - loss: 0.1903 - accuracy: 0.9292 - val_loss: 0.1899 - val_accuracy: 0.9304\n",
      "Epoch 14/20\n",
      "1719/1719 [==============================] - 15s 9ms/step - loss: 0.1862 - accuracy: 0.9319 - val_loss: 0.2076 - val_accuracy: 0.9228\n",
      "Epoch 15/20\n",
      "1719/1719 [==============================] - 15s 8ms/step - loss: 0.1806 - accuracy: 0.9336 - val_loss: 0.2231 - val_accuracy: 0.9176\n",
      "Epoch 16/20\n",
      "1719/1719 [==============================] - 14s 8ms/step - loss: 0.1774 - accuracy: 0.9343 - val_loss: 0.1727 - val_accuracy: 0.9356\n",
      "Epoch 17/20\n",
      "1719/1719 [==============================] - 16s 10ms/step - loss: 0.1730 - accuracy: 0.9362 - val_loss: 0.1800 - val_accuracy: 0.9314\n",
      "Epoch 18/20\n",
      "1719/1719 [==============================] - 15s 9ms/step - loss: 0.1673 - accuracy: 0.9376 - val_loss: 0.1831 - val_accuracy: 0.9328\n",
      "Epoch 19/20\n",
      "1719/1719 [==============================] - 16s 9ms/step - loss: 0.1644 - accuracy: 0.9399 - val_loss: 0.1777 - val_accuracy: 0.9368\n",
      "Epoch 20/20\n",
      "1719/1719 [==============================] - 16s 9ms/step - loss: 0.1602 - accuracy: 0.9406 - val_loss: 0.1792 - val_accuracy: 0.9318\n",
      "Elapsed time: 305.63143730163574 s\n",
      "313/313 [==============================] - 1s 2ms/step - loss: 0.2067 - accuracy: 0.9296\n"
     ]
    },
    {
     "data": {
      "text/plain": [
       "[0.20666374266147614, 0.9296000003814697]"
      ]
     },
     "execution_count": 75,
     "metadata": {},
     "output_type": "execute_result"
    }
   ],
   "source": [
    "def train(model):\n",
    "    early_stopping = tf.keras.callbacks.EarlyStopping(monitor='val_loss', patience=10, restore_best_weights=True)\n",
    "    return model.fit(X_train, y_train, epochs=20,\n",
    "                     use_multiprocessing=False,\n",
    "                     validation_data=(X_valid, y_valid),\n",
    "                     callbacks=[early_stopping])\n",
    "\n",
    "    \n",
    "start = time.time()\n",
    "history = train(model)\n",
    "end = time.time()\n",
    "print(f\"Elapsed time: {end - start} s\")\n",
    "model.evaluate(X_test, y_test)"
   ]
  },
  {
   "cell_type": "code",
   "execution_count": 76,
   "metadata": {
    "tags": []
   },
   "outputs": [
    {
     "data": {
      "image/png": "[encoded data removed]",
      "text/plain": [
       "<Figure size 800x500 with 1 Axes>"
      ]
     },
     "metadata": {},
     "output_type": "display_data"
    }
   ],
   "source": [
    "pd.DataFrame(history.history).plot(figsize=(8, 5))\n",
    "plt.grid(True)\n",
    "plt.gca().set_ylim(0, 1)\n",
    "plt.show()"
   ]
  },
  {
   "cell_type": "code",
   "execution_count": null,
   "metadata": {},
   "outputs": [],
   "source": []
  }
 ],
 "metadata": {
  "kernelspec": {
   "display_name": "Python 3 (ipykernel)",
   "language": "python",
   "name": "python3"
  },
  "language_info": {
   "codemirror_mode": {
    "name": "ipython",
    "version": 3
   },
   "file_extension": ".py",
   "mimetype": "text/x-python",
   "name": "python",
   "nbconvert_exporter": "python",
   "pygments_lexer": "ipython3",
   "version": "3.11.3"
  }
 },
 "nbformat": 4,
 "nbformat_minor": 4
}
